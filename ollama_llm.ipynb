{
 "cells": [
  {
   "cell_type": "code",
   "execution_count": 5,
   "id": "90afe1d4",
   "metadata": {},
   "outputs": [],
   "source": [
    "from ollama import chat\n",
    "from ollama import ChatResponse\n",
    "\n",
    "def __init__(self, model):\n",
    "    model_object = model\n",
    "\n",
    "def llm_query(model='gemma3:1b', question='none'):\n",
    "    response: ChatResponse = chat(model=model, messages=[\n",
    "      {\n",
    "        'role': 'user',\n",
    "        'content': question,\n",
    "      },\n",
    "    ])\n",
    "    print(response['message']['content'])\n",
    "    # or access fields directly from the response object\n",
    "    # print(response.message.content)\n",
    "\n",
    "def local_llm_list():\n",
    "    model_list = ollama.list()\n",
    "    return model_list"
   ]
  },
  {
   "cell_type": "code",
   "execution_count": 3,
   "id": "2d84d65e",
   "metadata": {},
   "outputs": [
    {
     "data": {
      "text/plain": [
       "ListResponse(models=[Model(model='gemma3:1b', modified_at=datetime.datetime(2025, 4, 15, 3, 59, 1, 113597, tzinfo=TzInfo(-04:00)), digest='8648f39daa8fbf5b18c7b4e6a8fb4990c692751d49917417b8842ca5758e7ffc', size=815319791, details=ModelDetails(parent_model='', format='gguf', family='gemma3', families=['gemma3'], parameter_size='999.89M', quantization_level='Q4_K_M'))])"
      ]
     },
     "execution_count": 3,
     "metadata": {},
     "output_type": "execute_result"
    }
   ],
   "source": [
    "local_llm_list()"
   ]
  },
  {
   "cell_type": "code",
   "execution_count": 6,
   "id": "67301dee",
   "metadata": {},
   "outputs": [
    {
     "name": "stdout",
     "output_type": "stream",
     "text": [
      "Okay, let's break down what AI is. It's a really broad and evolving topic, but here's a breakdown of the key concepts:\n",
      "\n",
      "**1. Artificial Intelligence (AI) – In Simple Terms:**\n",
      "\n",
      "At its core, AI is about creating machines that can perform tasks that typically require human intelligence. This means things like:\n",
      "\n",
      "* **Learning:**  Figuring things out from data, rather than being explicitly programmed.\n",
      "* **Problem-solving:**  Finding solutions to complex situations.\n",
      "* **Decision-making:**  Choosing the best course of action.\n",
      "* **Understanding language:**  Processing and interpreting human language.\n",
      "* **Visual recognition:** Identifying objects in images.\n",
      "* **Reasoning:**  Drawing conclusions based on information.\n",
      "\n",
      "**2. Different Types of AI:**\n",
      "\n",
      "There are different levels and types of AI, but here are some key ones:\n",
      "\n",
      "* **Narrow AI (Weak AI):** This is the most common type we see today. It's designed for a *specific* task and is incredibly good at it. Examples include:\n",
      "    * **Spam filters:** Identifying and filtering unwanted emails.\n",
      "    * **Recommendation systems:**  Suggesting products you might like (like on Netflix or Amazon).\n",
      "    * **Voice assistants (Siri, Alexa, Google Assistant):**  Understanding and responding to your voice commands.\n",
      "    * **Image recognition software:** Identifying objects in photos.\n",
      "* **General AI (Strong AI):** This is a theoretical type of AI that would possess human-level intelligence – the ability to understand, learn, and apply knowledge in any domain, just like a human. We don't *currently* have this yet.\n",
      "* **Super AI:**  An even more theoretical type of AI that would surpass human intelligence in all aspects.\n",
      "\n",
      "\n",
      "**3. How is AI Achieved?**\n",
      "\n",
      "AI isn't just about building robots. It's achieved through various techniques:\n",
      "\n",
      "* **Machine Learning (ML):** This is the *most* prevalent type of AI today.  Instead of being explicitly programmed, ML algorithms allow computers to learn from data.  They look for patterns in the data and use those patterns to make predictions or decisions.  There are many different types of ML:\n",
      "    * **Supervised Learning:**  The algorithm is trained on labeled data (e.g., showing it pictures of cats and telling it which ones are cats).\n",
      "    * **Unsupervised Learning:**  The algorithm finds patterns in unlabeled data (e.g., grouping customers based on their purchasing habits).\n",
      "    * **Reinforcement Learning:**  The algorithm learns by trial and error, receiving rewards or penalties for its actions (e.g., teaching a robot to walk).\n",
      "* **Deep Learning:** A subset of machine learning that uses artificial neural networks with multiple layers (\"deep\") to analyze data. This allows AI to handle much more complex patterns.\n",
      "* **Natural Language Processing (NLP):**  Focuses on enabling computers to understand, interpret, and generate human language.\n",
      "\n",
      "\n",
      "**4.  Key Areas of AI Today:**\n",
      "\n",
      "* **Healthcare:**  Diagnosis, drug discovery, personalized medicine.\n",
      "* **Finance:** Fraud detection, algorithmic trading, risk management.\n",
      "* **Transportation:**  Self-driving cars, traffic optimization.\n",
      "* **Marketing:**  Personalized advertising, sentiment analysis.\n",
      "* **Education:**  Personalized learning, automated grading.\n",
      "* **Entertainment:**  AI-generated art, video games.\n",
      "\n",
      "\n",
      "**5. Important Note:** AI is a constantly evolving field.  What's possible today might be different tomorrow.\n",
      "\n",
      "\n",
      "**Resources for Further Learning:**\n",
      "\n",
      "* **Google AI:** [https://ai.google/](https://ai.google/)\n",
      "* **Microsoft AI:** [https://www.microsoft.com/en-us/ai](https://www.microsoft.com/en-us/ai)\n",
      "* **Fast.ai:** [https://www.fast.ai/](https://www.fast.ai/) (Excellent resources for deep learning)\n",
      "\n",
      "---\n",
      "\n",
      "**To help me give you a more tailored explanation, could you tell me:**\n",
      "\n",
      "*   **What specifically are you interested in learning about AI?** (e.g., its applications, its history, the ethical implications, a particular type of AI)?\n"
     ]
    }
   ],
   "source": [
    "llm_query(question='What is ai?')"
   ]
  },
  {
   "cell_type": "code",
   "execution_count": null,
   "id": "b57e52c2",
   "metadata": {},
   "outputs": [],
   "source": []
  }
 ],
 "metadata": {
  "kernelspec": {
   "display_name": "digital_tomato",
   "language": "python",
   "name": "python3"
  },
  "language_info": {
   "codemirror_mode": {
    "name": "ipython",
    "version": 3
   },
   "file_extension": ".py",
   "mimetype": "text/x-python",
   "name": "python",
   "nbconvert_exporter": "python",
   "pygments_lexer": "ipython3",
   "version": "3.11.12"
  }
 },
 "nbformat": 4,
 "nbformat_minor": 5
}
